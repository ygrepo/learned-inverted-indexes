{
 "cells": [
  {
   "cell_type": "code",
   "execution_count": 9,
   "metadata": {},
   "outputs": [],
   "source": [
    "import os\n",
    "import sys\n",
    "script_dir = os.getcwd()\n",
    "module_path = os.path.abspath(os.path.join(script_dir, '..', 'src'))\n",
    "if module_path not in sys.path:\n",
    "    sys.path.append(module_path)"
   ]
  },
  {
   "cell_type": "code",
   "execution_count": 19,
   "metadata": {},
   "outputs": [],
   "source": [
    "from model import LII_LSTM, Distiller_LII_LSTM\n",
    "import torch\n",
    "from torch import nn\n",
    "from torch.utils import data as data_utils\n",
    "import distiller\n",
    "from distiller.modules import DistillerLSTM as LSTM\n",
    "from tqdm import tqdm # for pretty progress bar\n",
    "import numpy as np\n",
    "import torchvision\n",
    "import collections\n",
    "import matplotlib.pyplot as plt"
   ]
  },
  {
   "cell_type": "code",
   "execution_count": 11,
   "metadata": {},
   "outputs": [],
   "source": [
    "# Set up device and manual seed\n",
    "torch.manual_seed(1)\n",
    "device = torch.device(\"cuda:0\" if torch.cuda.is_available() else \"cpu\")"
   ]
  },
  {
   "cell_type": "markdown",
   "metadata": {},
   "source": [
    "# Loading the model."
   ]
  },
  {
   "cell_type": "code",
   "execution_count": 12,
   "metadata": {},
   "outputs": [
    {
     "data": {
      "text/plain": [
       "LII_LSTM(\n",
       "  (rnn): LSTM(1, 12)\n",
       "  (linear): Linear(in_features=12, out_features=1, bias=True)\n",
       ")"
      ]
     },
     "execution_count": 12,
     "metadata": {},
     "output_type": "execute_result"
    }
   ],
   "source": [
    "rnn_model = torch.load('../golden_data/20190428_checkpoint.pth.tar.best')\n",
    "rnn_model = rnn_model.to(device)\n",
    "rnn_model"
   ]
  },
  {
   "cell_type": "code",
   "execution_count": 55,
   "metadata": {},
   "outputs": [],
   "source": [
    "def to_np(x):\n",
    "    return x.cpu().numpy()\n",
    "\n",
    "def flatten(weights):\n",
    "    weights = weights.clone().view(weights.numel())\n",
    "    weights = to_np(weights)\n",
    "    return weights\n",
    "\n",
    "\n",
    "import scipy.stats as stats\n",
    "def plot_params_hist_single(name, weights_pytorch, remove_zeros=False, kmeans=None):\n",
    "    weights = flatten(weights_pytorch)\n",
    "    if remove_zeros:\n",
    "        weights = weights[weights!=0]\n",
    "    n, bins, patches = plt.hist(weights, bins=200)\n",
    "    plt.title(name)\n",
    "    \n",
    "    if kmeans is not None:\n",
    "        labels = kmeans.labels_\n",
    "        centroids = kmeans.cluster_centers_\n",
    "        cnt_coefficients = [len(labels[labels==i]) for i in range(16)]\n",
    "        # Normalize the coefficients so they display in the same range as the float32 histogram\n",
    "        cnt_coefficients = [cnt / 5 for cnt in cnt_coefficients] \n",
    "        centroids, cnt_coefficients = zip(*sorted(zip(centroids, cnt_coefficients)))\n",
    "        cnt_coefficients = list(cnt_coefficients)\n",
    "        centroids = list(centroids)\n",
    "        if remove_zeros:\n",
    "            for i in range(len(centroids)):\n",
    "                if abs(centroids[i]) < 0.0001:  # almost zero\n",
    "                    centroids.remove(centroids[i])\n",
    "                    cnt_coefficients.remove(cnt_coefficients[i])\n",
    "                    break\n",
    "        \n",
    "        plt.plot(centroids, cnt_coefficients)\n",
    "        zeros = [0] * len(centroids)\n",
    "        plt.plot(centroids, zeros, 'r+', markersize=15)\n",
    "        \n",
    "        h = cnt_coefficients\n",
    "        hmean = np.mean(h)\n",
    "        hstd = np.std(h)\n",
    "        pdf = stats.norm.pdf(h, hmean, hstd)\n",
    "        #plt.plot(h, pdf)\n",
    "        \n",
    "    plt.show()\n",
    "    print(\"mean:{:.1f}\\nstddev:{:.1f}\".format(weights.mean().item(), weights.std().item()))\n",
    "    print(\"size={}\".format(distiller.size2str(weights_pytorch.size())))\n",
    "    print(\"min:{:.3f}\\nmax:{:.3f}\".format(weights.min().item(), weights.max().item()))\n",
    "\n",
    "    \n",
    "\n",
    "\n",
    "def plot_layer_sizes(which, sparse_model, dense_model):\n",
    "    dense = []\n",
    "    sparse = []\n",
    "    names = []\n",
    "    for name, sparse_weights in sparse_model.state_dict().items():\n",
    "        if ('weight' not in name) or (which!='*' and which not in name):\n",
    "                continue    \n",
    "        sparse.append(len(sparse_weights[sparse_weights!=0]))\n",
    "        names.append(name)\n",
    "\n",
    "    for name, dense_weights in dense_model.state_dict().items():\n",
    "        if ('weight' not in name) or (which!='*' and which not in name):\n",
    "                continue\n",
    "        dense.append(dense_weights.numel())\n",
    "\n",
    "    N = len(sparse)\n",
    "    ind = np.arange(N)    # the x locations for the groups\n",
    "\n",
    "    fig, ax = plt.subplots()\n",
    "    width = .47\n",
    "    p1 = plt.bar(ind, dense,  width = .47, color = '#278DBC')\n",
    "    p2 = plt.bar(ind, sparse, width = 0.35, color = '#000099')\n",
    "\n",
    "    plt.ylabel('Size')\n",
    "    plt.title('Layer sizes')\n",
    "    plt.xticks(rotation='vertical')\n",
    "    plt.xticks(ind, names)\n",
    "    #plt.yticks(np.arange(0, 100, 150))\n",
    "    plt.legend((p1[0], p2[0]), ('Dense', 'Sparse'))\n",
    "\n",
    "    #Remove plot borders\n",
    "    for location in ['right', 'left', 'top', 'bottom']:\n",
    "        ax.spines[location].set_visible(False)  \n",
    "\n",
    "    #Fix grid to be horizontal lines only and behind the plots\n",
    "    ax.yaxis.grid(color='gray', linestyle='solid')\n",
    "    ax.set_axisbelow(True)\n",
    "    plt.show()\n",
    "    \n",
    "\n",
    "def fc_param_names(model):\n",
    "    return [param_name for param_name, p in model.state_dict().items()  \n",
    "            if (p.dim()==2) and (\"weight\" in param_name)]"
   ]
  },
  {
   "cell_type": "code",
   "execution_count": 58,
   "metadata": {},
   "outputs": [
    {
     "name": "stdout",
     "output_type": "stream",
     "text": [
      "['rnn.weight_ih_l0', 'rnn.weight_hh_l0', 'linear.weight']\n"
     ]
    }
   ],
   "source": [
    "print(fc_param_names(rnn_model))"
   ]
  },
  {
   "cell_type": "code",
   "execution_count": 56,
   "metadata": {},
   "outputs": [
    {
     "data": {
      "image/png": "[encoded data removed]",
      "text/plain": [
       "<Figure size 432x288 with 1 Axes>"
      ]
     },
     "metadata": {
      "needs_background": "light"
     },
     "output_type": "display_data"
    },
    {
     "name": "stdout",
     "output_type": "stream",
     "text": [
      "mean:0.2\n",
      "stddev:0.3\n",
      "size=(48, 1)\n",
      "min:-0.495\n",
      "max:1.275\n"
     ]
    }
   ],
   "source": [
    "plot_params_hist_single('rnn.weight_ih_l0', rnn_model.state_dict()['rnn.weight_ih_l0'])"
   ]
  },
  {
   "cell_type": "code",
   "execution_count": 63,
   "metadata": {},
   "outputs": [
    {
     "data": {
      "image/png": "[encoded data removed]",
      "text/plain": [
       "<Figure size 432x288 with 1 Axes>"
      ]
     },
     "metadata": {
      "needs_background": "light"
     },
     "output_type": "display_data"
    },
    {
     "name": "stdout",
     "output_type": "stream",
     "text": [
      "mean:-0.0\n",
      "stddev:0.5\n",
      "size=(48, 12)\n",
      "min:-1.791\n",
      "max:1.663\n"
     ]
    }
   ],
   "source": [
    "plot_params_hist_single('rnn.rnn.weight_hh_l0',\n",
    "                        rnn_model.state_dict()['rnn.weight_hh_l0'])"
   ]
  },
  {
   "cell_type": "code",
   "execution_count": 62,
   "metadata": {},
   "outputs": [
    {
     "data": {
      "image/png": "[encoded data removed]",
      "text/plain": [
       "<Figure size 432x288 with 1 Axes>"
      ]
     },
     "metadata": {
      "needs_background": "light"
     },
     "output_type": "display_data"
    },
    {
     "name": "stdout",
     "output_type": "stream",
     "text": [
      "mean:-2.6\n",
      "stddev:19.1\n",
      "size=(1, 12)\n",
      "min:-19.984\n",
      "max:20.400\n"
     ]
    }
   ],
   "source": [
    "plot_params_hist_single('rnn.rnn.linear.weight', rnn_model.state_dict()['linear.weight'])"
   ]
  }
 ],
 "metadata": {
  "kernelspec": {
   "display_name": "env",
   "language": "python",
   "name": "env"
  },
  "language_info": {
   "codemirror_mode": {
    "name": "ipython",
    "version": 3
   },
   "file_extension": ".py",
   "mimetype": "text/x-python",
   "name": "python",
   "nbconvert_exporter": "python",
   "pygments_lexer": "ipython3",
   "version": "3.6.7"
  }
 },
 "nbformat": 4,
 "nbformat_minor": 2
}
